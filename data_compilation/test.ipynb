{
 "cells": [
  {
   "cell_type": "code",
   "execution_count": 54,
   "id": "22a03fcd",
   "metadata": {},
   "outputs": [],
   "source": [
    "import regex as re"
   ]
  },
  {
   "cell_type": "code",
   "execution_count": null,
   "id": "b99a4f30",
   "metadata": {},
   "outputs": [],
   "source": [
    "base_url=rf\"https://canvas.umn.edu/assessment_questions\"\n",
    "\n",
    "def extract_image_url(html_string):\n",
    "    # Match image URLs in src attributes\n",
    "    html_string = str(html_string)\n",
    "    img_pattern = r'<img[^>]*src=\\\\\"([^\"\\\\]+)\\\\\"'\n",
    "    \n",
    "    # Find all matches\n",
    "    matches = re.findall(img_pattern, html_string)\n",
    "    print(matches)\n",
    "    # Return the first match if found, otherwise empty string\n",
    "    if matches:\n",
    "        img_url = matches[0]\n",
    "        # If it's a relative URL, add the base domain\n",
    "        if img_url.startswith('/'):\n",
    "            img_url = base_url + img_url\n",
    "        return img_url\n",
    "    else:\n",
    "        return \"\""
   ]
  },
  {
   "cell_type": "code",
   "execution_count": 56,
   "id": "e1e84566",
   "metadata": {},
   "outputs": [],
   "source": [
    "q_content = rf\"The following functional group is known as<br><img src=\\\"/assessment_questions/3980181/files/4145195/download?verifier=x4RxY6e5vpfq3yWAEQWvhGQKXf6t6uN6xsEDBKpx\\\" alt=\\\"\\\">\""
   ]
  },
  {
   "cell_type": "code",
   "execution_count": 57,
   "id": "48d6f666",
   "metadata": {},
   "outputs": [
    {
     "name": "stdout",
     "output_type": "stream",
     "text": [
      "['/assessment_questions/3980181/files/4145195/download?verifier=x4RxY6e5vpfq3yWAEQWvhGQKXf6t6uN6xsEDBKpx']\n"
     ]
    },
    {
     "data": {
      "text/plain": [
       "'https://canvas.umn.edu/assessment_questions/assessment_questions/3980181/files/4145195/download?verifier=x4RxY6e5vpfq3yWAEQWvhGQKXf6t6uN6xsEDBKpx'"
      ]
     },
     "execution_count": 57,
     "metadata": {},
     "output_type": "execute_result"
    }
   ],
   "source": [
    "web = extract_image_url(q_content)\n",
    "web"
   ]
  }
 ],
 "metadata": {
  "kernelspec": {
   "display_name": "Python 3",
   "language": "python",
   "name": "python3"
  },
  "language_info": {
   "codemirror_mode": {
    "name": "ipython",
    "version": 3
   },
   "file_extension": ".py",
   "mimetype": "text/x-python",
   "name": "python",
   "nbconvert_exporter": "python",
   "pygments_lexer": "ipython3",
   "version": "3.13.7"
  }
 },
 "nbformat": 4,
 "nbformat_minor": 5
}
